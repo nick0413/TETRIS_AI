{
 "cells": [
  {
   "cell_type": "code",
   "execution_count": 16,
   "metadata": {},
   "outputs": [],
   "source": [
    "import numpy as np\n",
    "from lists import *\n",
    "board = np.zeros((10,5),dtype=int)\n",
    "\n",
    "class Piece:\n",
    "\n",
    "\n",
    "\tdef __init__(self,type, starting_position, board_size) -> None:\n",
    "\t\tself.x = starting_position[0]\n",
    "\t\tself.y = starting_position[1]\n",
    "\t\tself.type = type\n",
    "\t\tself.color = color_pieces[type]\n",
    "\t\tself.rotation = 90\n",
    "\t\tself.shape = codes_pieces[type][self.rotation]\n",
    "\t\tself.board_size = board_size\n",
    "\n",
    "\t\tself.empty: bool = False\n",
    "\n",
    "\t\tself.max_x=max(self.shape[:,0])\n",
    "\t\tself.min_x=min(self.shape[:,0])\n",
    "\t\tself.max_y=max(self.shape[:,1])\n",
    "\t\tself.min_y=min(self.shape[:,1])\n",
    "\n",
    "\t\tself.grounded = False\n",
    "\n",
    "\n",
    "\t\t# print(f\"{types_pieces[self.type]} created at {self.x},{self.y}\")\n",
    "\n",
    "\tdef x_up_bound(self):\n",
    "\t\treturn max(self.shape[:,0])+self.x\n",
    "\tdef x_down_bound(self):\n",
    "\t\treturn min(self.shape[:,0])+self.x\n",
    "\tdef y_up_bound(self):\n",
    "\t\treturn max(self.shape[:,1])+self.y\n",
    "\tdef y_down_bound(self):\n",
    "\t\treturn min(self.shape[:,1])+self.y\n",
    "\n",
    "\tdef __str__(self) -> str:\n",
    "\t\treturn str(types_pieces[self.type])+'at'+str(self.x)+','+str(self.y)\n",
    "\t\n",
    "\tdef board_position(self, original_shape=False):\n",
    "\t\tsquares=np.copy(self.shape)\n",
    "\t\tsquares[:,0]+=self.x\n",
    "\t\tsquares[:,1]+=self.y\n",
    "\n",
    "\t\tindices=tuple(squares.T)\n",
    "\t\tif original_shape:\n",
    "\t\t\treturn squares\n",
    "\t\t\n",
    "\t\treturn indices\n",
    "\t\n",
    "\tdef assing_shape(self, shape):\n",
    "\t\tshape[:,0] -= self.x\n",
    "\t\tshape[:,1] -= self.y\n",
    "\t\t  \n",
    "\n",
    "\t\n",
    "\tdef rotate(self):\n",
    "\t\tself.rotation = (self.rotation+ 90) % 360\n",
    "\t\tself.shape = codes_pieces[self.type][self.rotation]\n",
    "\t\tself.max_x=max(self.shape[:,0])\n",
    "\t\tself.min_x=min(self.shape[:,0])\n",
    "\t\tself.max_y=max(self.shape[:,1])\n",
    "\t\tself.min_y=min(self.shape[:,1])\n",
    "\n",
    "\t\tif (self.y_down_bound()<0 ):\n",
    "\t\t\tself.y = -self.min_y\n",
    "\n",
    "\t\tif (self.y_up_bound()>self.board_size[1]-1):\n",
    "\t\t\tself.y = self.board_size[1]-1-self.max_y\n",
    "\n",
    "\t\tif (self.x_down_bound()<0 ):\n",
    "\t\t\tself.x = -self.min_x\n",
    "\n",
    "\t\tif (self.x_up_bound()>self.board_size[0]-1):\n",
    "\t\t\tself.x = self.board_size[0]-1-self.max_x\n",
    "\n",
    "\n",
    "# - ROTATION TESTS\n",
    "# print('----0')\n",
    "# piece1=piece(7,[7,2])\n",
    "# board[piece1.board_position()]=piece1.type\n",
    "# print(np.flipud(board.T))\n",
    "# print('----90')\n",
    "# board=board*0\n",
    "# piece1.rotate()\n",
    "\n",
    "# board[piece1.board_position()]=piece1.type\n",
    "# print(np.flipud(board.T))\n",
    "# print('----180')\n",
    "# board=board*0\n",
    "# piece1.rotate()\n",
    "\n",
    "# board[piece1.board_position()]=piece1.type\n",
    "# print(np.flipud(board.T))\n",
    "# print('----270')\n",
    "# board=board*0\n",
    "# piece1.rotate()\n",
    "# board[piece1.board_position()]=piece1.type\n",
    "# print(np.flipud(board.T))\n",
    "# print('----0')\n",
    "# board=board*0\n",
    "# piece1.rotate()\n",
    "# board[piece1.board_position()]=piece1.type\n",
    "# print(np.flipud(board.T))\n",
    "\n",
    " "
   ]
  },
  {
   "cell_type": "code",
   "execution_count": 45,
   "metadata": {},
   "outputs": [
    {
     "name": "stdout",
     "output_type": "stream",
     "text": [
      "1\n",
      "[False]\n",
      "[False]\n",
      "[False]\n",
      "[False]\n",
      "[[7 0]\n",
      " [7 1]\n",
      " [7 2]\n",
      " [7 3]]\n"
     ]
    }
   ],
   "source": [
    "piece1=Piece(1,[7,2],board.shape)\n",
    "piece_y = piece1.board_position(True)[:,1]\n",
    "lines_with_no_zeros =np.array([4])\n",
    "\n",
    "remaining_blocks = np.where(~np.isin(piece_y, lines_with_no_zeros))\n",
    "piece1.shape = piece1.shape[remaining_blocks]\n",
    "piece_y = piece1.board_position(True)[:,1]\n",
    "for i in range(len(piece_y)):\n",
    "\theight = piece_y[i]\n",
    "\tprint(height>lines_with_no_zeros)\n",
    "\tpiece1.shape[i,1] = piece1.shape[i,1] - np.sum(height>lines_with_no_zeros)\n",
    "\n",
    "print(piece1.board_position(True))\n"
   ]
  },
  {
   "cell_type": "code",
   "execution_count": 59,
   "metadata": {},
   "outputs": [
    {
     "name": "stdout",
     "output_type": "stream",
     "text": [
      "[[7 4]\n",
      " [7 5]\n",
      " [7 6]\n",
      " [7 7]]\n",
      "[[7 4]\n",
      " [7 5]\n",
      " [7 6]]\n"
     ]
    }
   ],
   "source": [
    "piece1=Piece(1,[7,6],board.shape)\n",
    "print(piece1.board_position(True))\n",
    "piece_y = piece1.board_position(True)[:,1]\n",
    "lines_with_no_zeros =np.array([6])\n",
    "\n",
    "remaining_blocks = np.where(~np.isin(piece_y, lines_with_no_zeros))\n",
    "piece1.shape = piece1.shape[remaining_blocks]\n",
    "piece_y = piece1.board_position(True)[:,1]\n",
    "\n",
    "heights = piece_y\n",
    "shifts = np.sum(heights[:, None] > lines_with_no_zeros, axis=1)\n",
    "piece1.shape[:,1] -= shifts\n",
    "\n",
    "print(piece1.board_position(True))"
   ]
  },
  {
   "cell_type": "code",
   "execution_count": 6,
   "metadata": {},
   "outputs": [
    {
     "name": "stdout",
     "output_type": "stream",
     "text": [
      "[[0 0 0 0 0]\n",
      " [0 0 0 0 0]\n",
      " [0 0 0 0 0]\n",
      " [0 0 0 0 0]\n",
      " [0 0 0 0 0]\n",
      " [0 0 0 0 0]\n",
      " [0 0 0 0 0]\n",
      " [0 0 0 0 0]\n",
      " [1 1 1 1 1]\n",
      " [1 1 1 1 1]]\n",
      "[0 1]\n"
     ]
    }
   ],
   "source": [
    "board2=np.zeros((5,10),dtype=int)\n",
    "board2[:,0]=1\n",
    "board2[:,1]=1\n",
    "print(np.flipud(board2.T))\n",
    "print(np.where(np.all(board2 != 0, axis=0))[0])"
   ]
  },
  {
   "cell_type": "code",
   "execution_count": 7,
   "metadata": {},
   "outputs": [
    {
     "name": "stdout",
     "output_type": "stream",
     "text": [
      "[[0 0 0 0 0]\n",
      " [0 0 0 0 0]\n",
      " [0 0 0 0 0]\n",
      " [0 0 0 0 0]\n",
      " [0 0 0 0 0]\n",
      " [0 0 0 0 0]\n",
      " [1 1 1 1 1]\n",
      " [0 0 0 0 0]\n",
      " [0 0 0 0 0]\n",
      " [1 1 1 1 1]]\n"
     ]
    }
   ],
   "source": [
    "ground=np.zeros((5,10),dtype=int)\n",
    "ground[:,3]=1\n",
    "ground[:,0]=1\n",
    "lines_cleared=np.array([1,2])\n",
    "ground[:,lines_cleared]=ground[:,lines_cleared]*0\n",
    "print(np.flipud(ground.T))"
   ]
  },
  {
   "cell_type": "code",
   "execution_count": 68,
   "metadata": {},
   "outputs": [
    {
     "data": {
      "text/plain": [
       "<matplotlib.image.AxesImage at 0x13c3ba25990>"
      ]
     },
     "execution_count": 68,
     "metadata": {},
     "output_type": "execute_result"
    },
    {
     "data": {
      "image/png": "[encoded data removed]",
      "text/plain": [
       "<Figure size 640x480 with 2 Axes>"
      ]
     },
     "metadata": {},
     "output_type": "display_data"
    }
   ],
   "source": [
    "import matplotlib.pyplot as plt\n",
    "fig, ax = plt.subplots(1,2)\n",
    "frame=698\n",
    "ax[0].imshow(np.loadtxt(f'game_states/{frame}_before.csv',delimiter=','))\n",
    "ax[1].imshow(np.loadtxt(f'game_states/{frame}_later.csv',delimiter=','))\n"
   ]
  },
  {
   "cell_type": "code",
   "execution_count": null,
   "metadata": {},
   "outputs": [],
   "source": [
    "np.array([[0 0],[1 0],[1 1],[2 0]])"
   ]
  }
 ],
 "metadata": {
  "kernelspec": {
   "display_name": "Python 3",
   "language": "python",
   "name": "python3"
  },
  "language_info": {
   "codemirror_mode": {
    "name": "ipython",
    "version": 3
   },
   "file_extension": ".py",
   "mimetype": "text/x-python",
   "name": "python",
   "nbconvert_exporter": "python",
   "pygments_lexer": "ipython3",
   "version": "3.10.10"
  }
 },
 "nbformat": 4,
 "nbformat_minor": 2
}
